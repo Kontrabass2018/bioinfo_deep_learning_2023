{
 "cells": [
  {
   "cell_type": "code",
   "execution_count": 1,
   "metadata": {},
   "outputs": [],
   "source": [
    "import os\n",
    "import umap\n",
    "import h5py\n",
    "import random\n",
    "import sklearn\n",
    "import datetime \n",
    "import numpy as np\n",
    "import pandas as pd\n",
    "from collections import Counter\n",
    "from matplotlib import pyplot as plt \n",
    "from sklearn.manifold import TSNE\n",
    "from sklearn.decomposition import PCA\n",
    "from sklearn.preprocessing import LabelBinarizer\n",
    "from sklearn.model_selection import train_test_split\n",
    "from sklearn.linear_model import RidgeClassifier\n",
    "from sklearn.svm import SVC, LinearSVC\n",
    "from scipy.stats import pearsonr # Pearson cor"
   ]
  },
  {
   "cell_type": "markdown",
   "metadata": {},
   "source": [
    "# Introduction aux tâches de régression avec un auto-encodeur"
   ]
  },
  {
   "cell_type": "markdown",
   "metadata": {},
   "source": [
    "1. Chargement les données en python dans un format matriciel et vectoriel"
   ]
  },
  {
   "cell_type": "code",
   "execution_count": 2,
   "metadata": {},
   "outputs": [],
   "source": [
    "inf = \"/cours/a23_bin3002-a/cours/TP6/TCGA_BRCA_fpkm_hv_norm_PAM50.h5\"\n",
    "dataset = h5py.File(inf)"
   ]
  },
  {
   "cell_type": "code",
   "execution_count": 12,
   "metadata": {},
   "outputs": [
    {
     "data": {
      "text/plain": [
       "['data', 'genes', 'labels', 'samples']"
      ]
     },
     "execution_count": 12,
     "metadata": {},
     "output_type": "execute_result"
    }
   ],
   "source": [
    "list(dataset)"
   ]
  },
  {
   "cell_type": "code",
   "execution_count": 3,
   "metadata": {},
   "outputs": [],
   "source": [
    "data = dataset[\"data\"][:,:]  "
   ]
  },
  {
   "cell_type": "code",
   "execution_count": 9,
   "metadata": {},
   "outputs": [
    {
     "data": {
      "text/plain": [
       "array([[0.45339029, 0.53500781, 0.5161611 , ..., 0.41810393, 0.61250596,\n",
       "        0.48100808],\n",
       "       [0.27447489, 0.53724909, 0.40348536, ..., 0.29067125, 0.32771411,\n",
       "        0.52587322],\n",
       "       [0.15044208, 0.16774649, 0.39397187, ..., 0.47229332, 0.35767206,\n",
       "        0.36002443],\n",
       "       ...,\n",
       "       [0.06280158, 0.26839373, 0.54372513, ..., 0.52991027, 0.3545378 ,\n",
       "        0.12677175],\n",
       "       [0.08571579, 0.25045358, 0.4008068 , ..., 0.        , 0.        ,\n",
       "        0.17291221],\n",
       "       [0.10107479, 0.33702908, 0.31648619, ..., 0.32029804, 0.60007047,\n",
       "        0.14239391]])"
      ]
     },
     "execution_count": 9,
     "metadata": {},
     "output_type": "execute_result"
    }
   ],
   "source": [
    "data"
   ]
  },
  {
   "cell_type": "code",
   "execution_count": 13,
   "metadata": {},
   "outputs": [],
   "source": [
    "genes = np.array(dataset[\"genes\"][:], dtype=str) # gene names \n",
    "sample_ids = np.array(dataset[\"samples\"][:], dtype=str) # sample ids\n",
    "labels = np.array(dataset[\"labels\"][:], dtype=str) # loading labels"
   ]
  },
  {
   "cell_type": "code",
   "execution_count": 14,
   "metadata": {},
   "outputs": [
    {
     "data": {
      "text/plain": [
       "(11802, 1023)"
      ]
     },
     "execution_count": 14,
     "metadata": {},
     "output_type": "execute_result"
    }
   ],
   "source": [
    "data.shape"
   ]
  },
  {
   "cell_type": "code",
   "execution_count": null,
   "metadata": {},
   "outputs": [],
   "source": []
  }
 ],
 "metadata": {
  "kernelspec": {
   "display_name": "Python 3",
   "language": "python",
   "name": "python3"
  },
  "language_info": {
   "codemirror_mode": {
    "name": "ipython",
    "version": 3
   },
   "file_extension": ".py",
   "mimetype": "text/x-python",
   "name": "python",
   "nbconvert_exporter": "python",
   "pygments_lexer": "ipython3",
   "version": "3.10.12"
  }
 },
 "nbformat": 4,
 "nbformat_minor": 2
}
