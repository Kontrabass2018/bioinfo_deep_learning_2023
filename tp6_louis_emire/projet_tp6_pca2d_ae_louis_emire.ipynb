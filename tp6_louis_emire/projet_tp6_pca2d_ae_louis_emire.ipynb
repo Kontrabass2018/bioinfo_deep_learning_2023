{
 "cells": [
  {
   "cell_type": "markdown",
   "metadata": {},
   "source": [
    "<h2 style='color: orange'>Équipe: Louis & Emire</h2>"
   ]
  },
  {
   "cell_type": "markdown",
   "metadata": {},
   "source": [
    "# Index\n",
    "\n",
    "1. [Régression linéaire vs DNN](./projet_tp6_rg_dnn_louis_emire.ipynb)\n",
    "2. [Régression linéaire vs Auto-Encodeur](./projet_tp6_rg_ae_louis_emire.ipynb)\n",
    "3. [PCA 2D & Auto-Encodeur](./projet_tp6_pca2d_ae_louis_emire.ipynb)"
   ]
  }
 ],
 "metadata": {
  "kernelspec": {
   "display_name": "Python 3",
   "language": "python",
   "name": "python3"
  },
  "language_info": {
   "codemirror_mode": {
    "name": "ipython",
    "version": 3
   },
   "file_extension": ".py",
   "mimetype": "text/x-python",
   "name": "python",
   "nbconvert_exporter": "python",
   "pygments_lexer": "ipython3",
   "version": "3.10.12"
  }
 },
 "nbformat": 4,
 "nbformat_minor": 2
}
